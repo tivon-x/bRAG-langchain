{
  "cells": [
    {
      "cell_type": "markdown",
      "metadata": {
        "colab_type": "text",
        "id": "view-in-github"
      },
      "source": [
        "<a href=\"https://colab.research.google.com/github/tivon-x/bRAG-langchain/blob/main/notebooks/%5B1%5D_rag_setup_overview.ipynb\" target=\"_parent\"><img src=\"https://colab.research.google.com/assets/colab-badge.svg\" alt=\"Open In Colab\"/></a>"
      ]
    },
    {
      "cell_type": "markdown",
      "id": "41ce62a8-251f-4f9e-b375-e93a5861c3fe",
      "metadata": {
        "id": "41ce62a8-251f-4f9e-b375-e93a5861c3fe"
      },
      "source": [
        "# bRAG: 检索增强生成（RAG）设置简介\n",
        "\n",
        "这些笔记本将引导您从零开始构建RAG应用。\n",
        "\n",
        "它们将帮助您逐步构建对RAG领域的全面理解，如图所示：\n",
        "\n",
        "![RAG overview](./image/rag-overview.png)\n"
      ]
    },
    {
      "cell_type": "markdown",
      "id": "8f1e8928",
      "metadata": {
        "id": "8f1e8928"
      },
      "source": [
        "## 安装\n",
        "\n",
        "安装依赖和创建虚拟环境（可选）"
      ]
    },
    {
      "cell_type": "code",
      "execution_count": null,
      "id": "706c950a",
      "metadata": {
        "id": "706c950a"
      },
      "outputs": [],
      "source": [
        "# 创建虚拟环境\n",
        "! python -m venv ../venv"
      ]
    },
    {
      "cell_type": "code",
      "execution_count": null,
      "id": "3a88555a-53a5-4ab8-ba3d-e6dd3a26c71a",
      "metadata": {
        "id": "3a88555a-53a5-4ab8-ba3d-e6dd3a26c71a"
      },
      "outputs": [],
      "source": [
        "# 激活虚拟环境\n",
        "! source ../venv/bin/activate"
      ]
    },
    {
      "cell_type": "code",
      "execution_count": null,
      "id": "5d5b208d",
      "metadata": {
        "id": "5d5b208d"
      },
      "outputs": [],
      "source": [
        "# 检查python是否在相应的虚拟环境中\n",
        "! which python"
      ]
    },
    {
      "cell_type": "code",
      "execution_count": null,
      "id": "d5882e8b",
      "metadata": {
        "colab": {
          "base_uri": "https://localhost:8080/"
        },
        "id": "d5882e8b",
        "outputId": "0d16d4b4-eca7-4f56-e424-37d884dd3ec7"
      },
      "outputs": [
        {
          "name": "stdout",
          "output_type": "stream",
          "text": [
            "\u001b[?25l   \u001b[90m━━━━━━━━━━━━━━━━━━━━━━━━━━━━━━━━━━━━━━━━\u001b[0m \u001b[32m0.0/46.3 kB\u001b[0m \u001b[31m?\u001b[0m eta \u001b[36m-:--:--\u001b[0m\r\u001b[2K   \u001b[90m━━━━━━━━━━━━━━━━━━━━━━━━━━━━━━━━━━━━━━━━\u001b[0m \u001b[32m46.3/46.3 kB\u001b[0m \u001b[31m3.6 MB/s\u001b[0m eta \u001b[36m0:00:00\u001b[0m\n",
            "\u001b[?25h\u001b[?25l   \u001b[90m━━━━━━━━━━━━━━━━━━━━━━━━━━━━━━━━━━━━━━━━\u001b[0m \u001b[32m0.0/52.2 kB\u001b[0m \u001b[31m?\u001b[0m eta \u001b[36m-:--:--\u001b[0m\r\u001b[2K   \u001b[90m━━━━━━━━━━━━━━━━━━━━━━━━━━━━━━━━━━━━━━━━\u001b[0m \u001b[32m52.2/52.2 kB\u001b[0m \u001b[31m4.2 MB/s\u001b[0m eta \u001b[36m0:00:00\u001b[0m\n",
            "\u001b[?25h\u001b[?25l   \u001b[90m━━━━━━━━━━━━━━━━━━━━━━━━━━━━━━━━━━━━━━━━\u001b[0m \u001b[32m0.0/42.3 kB\u001b[0m \u001b[31m?\u001b[0m eta \u001b[36m-:--:--\u001b[0m\r\u001b[2K   \u001b[90m━━━━━━━━━━━━━━━━━━━━━━━━━━━━━━━━━━━━━━━━\u001b[0m \u001b[32m42.3/42.3 kB\u001b[0m \u001b[31m3.0 MB/s\u001b[0m eta \u001b[36m0:00:00\u001b[0m\n",
            "\u001b[?25h\u001b[?25l   \u001b[90m━━━━━━━━━━━━━━━━━━━━━━━━━━━━━━━━━━━━━━━━\u001b[0m \u001b[32m0.0/44.3 kB\u001b[0m \u001b[31m?\u001b[0m eta \u001b[36m-:--:--\u001b[0m\r\u001b[2K   \u001b[90m━━━━━━━━━━━━━━━━━━━━━━━━━━━━━━━━━━━━━━━━\u001b[0m \u001b[32m44.3/44.3 kB\u001b[0m \u001b[31m3.4 MB/s\u001b[0m eta \u001b[36m0:00:00\u001b[0m\n",
            "\u001b[?25h"
          ]
        }
      ],
      "source": [
        "# 安装依赖\n",
        "! pip install --quiet python-dotenv langchain langchain-community langchain-core langchain-openai beautifulsoup4 tiktoken numpy langgraph langchain-pinecone"
      ]
    },
    {
      "cell_type": "code",
      "execution_count": null,
      "id": "ZtYUZ3CMJwp6",
      "metadata": {
        "colab": {
          "base_uri": "https://localhost:8080/"
        },
        "id": "ZtYUZ3CMJwp6",
        "outputId": "7470081c-b529-4440-f0a4-229619e089d2"
      },
      "outputs": [
        {
          "name": "stdout",
          "output_type": "stream",
          "text": [
            "\u001b[?25l   \u001b[90m━━━━━━━━━━━━━━━━━━━━━━━━━━━━━━━━━━━━━━━━\u001b[0m \u001b[32m0.0/1.3 MB\u001b[0m \u001b[31m?\u001b[0m eta \u001b[36m-:--:--\u001b[0m\r\u001b[2K   \u001b[90m━━━━━━━━━━━━━━━━━━━━━━━━━━━━━━━━━━━━━━━━\u001b[0m \u001b[32m1.3/1.3 MB\u001b[0m \u001b[31m41.3 MB/s\u001b[0m eta \u001b[36m0:00:00\u001b[0m\n",
            "\u001b[?25h"
          ]
        }
      ],
      "source": [
        "! pip install --upgrade --quiet  dashscope"
      ]
    },
    {
      "cell_type": "markdown",
      "id": "a5b0865a",
      "metadata": {
        "id": "a5b0865a"
      },
      "source": [
        "## Environment\n",
        "\n",
        "### 1. 环境变量"
      ]
    },
    {
      "cell_type": "code",
      "execution_count": null,
      "id": "8ea23028",
      "metadata": {
        "id": "8ea23028"
      },
      "outputs": [],
      "source": [
        "# 非colab环境\n",
        "import os\n",
        "from dotenv import load_dotenv\n",
        "\n",
        "# 从 .env 文件加载所有环境变量\n",
        "load_dotenv()\n",
        "\n",
        "# LangSmith\n",
        "langsmith_tracing = os.getenv('LANGSMITH_TRACING')\n",
        "langsmith_endpoint = os.getenv('LANGSMITH_ENDPOINT')\n",
        "langsmith_api_key = os.getenv('LANGSMITH_API_KEY')\n",
        "\n",
        "## LLM\n",
        "dashscope_api_key = os.getenv('DASHSCOPE_API_KEY')\n",
        "\n",
        "## Pinecone 向量数据库\n",
        "pinecone_api_key = os.getenv('PINECONE_API_KEY')\n",
        "pinecone_api_host = os.getenv('PINECONE_API_HOST')\n",
        "index_name = os.getenv('PINECONE_INDEX_NAME')\n"
      ]
    },
    {
      "cell_type": "code",
      "execution_count": null,
      "id": "8DidoeE8LsBT",
      "metadata": {
        "id": "8DidoeE8LsBT"
      },
      "outputs": [],
      "source": [
        "# Colab环境\n",
        "from google.colab import userdata\n",
        "\n",
        "langsmith_tracing = userdata.get('LANGSMITH_TRACING')\n",
        "langsmith_endpoint = userdata.get('LANGSMITH_ENDPOINT')\n",
        "langsmith_api_key = userdata.get('LANGSMITH_API_KEY')\n",
        "\n",
        "dashscope_api_key = userdata.get(\"DASHSCOPE_API_KEY\")\n",
        "\n",
        "pinecone_api_key = userdata.get('PINECONE_API_KEY')\n",
        "pinecone_api_host = userdata.get('PINECONE_API_HOST')\n",
        "index_name = userdata.get('PINECONE_INDEX_NAME')"
      ]
    },
    {
      "cell_type": "markdown",
      "id": "75a8ab66-8477-429f-bbbe-ba439322d085",
      "metadata": {
        "id": "75a8ab66-8477-429f-bbbe-ba439322d085"
      },
      "source": [
        "### 2. LangSmith\n",
        "LangSmith用于监控AI应用\n",
        "\n",
        "https://docs.smith.langchain.com/"
      ]
    },
    {
      "cell_type": "code",
      "execution_count": null,
      "id": "b76f68a8-4745-4377-8057-6090b87377d1",
      "metadata": {
        "id": "b76f68a8-4745-4377-8057-6090b87377d1"
      },
      "outputs": [],
      "source": [
        "import os\n",
        "os.environ['LANGSMITH_TRACING'] = langsmith_tracing\n",
        "os.environ['LANGSMITH_ENDPOINT'] = langsmith_endpoint\n",
        "os.environ['LANGSMITH_API_KEY'] = langsmith_api_key"
      ]
    },
    {
      "cell_type": "markdown",
      "id": "f8eb312d-8a07-4df3-8462-72ac526715f7",
      "metadata": {
        "id": "f8eb312d-8a07-4df3-8462-72ac526715f7"
      },
      "source": [
        "### 3. API Keys\n",
        "\n"
      ]
    },
    {
      "cell_type": "code",
      "execution_count": null,
      "id": "df28175e-24b6-4939-8a3c-5a1f9511f51e",
      "metadata": {
        "id": "df28175e-24b6-4939-8a3c-5a1f9511f51e"
      },
      "outputs": [],
      "source": [
        "# 使用阿里云百炼平台\n",
        "os.environ['DASHSCOPE_API_KEY'] = dashscope_api_key\n",
        "\n",
        "#Pinecone keys\n",
        "os.environ['PINECONE_API_KEY'] = pinecone_api_key\n",
        "os.environ['PINECONE_API_HOST'] = pinecone_api_host\n",
        "os.environ['PINECONE_INDEX_NAME'] = index_name"
      ]
    },
    {
      "cell_type": "code",
      "execution_count": null,
      "id": "tS6kdpATMi8B",
      "metadata": {
        "id": "tS6kdpATMi8B"
      },
      "outputs": [],
      "source": [
        "# langchain的webbaseloader需要\n",
        "os.environ[\"USER_AGENT\"] = \"Mozilla/5.0 (Windows NT 10.0; Win64; x64) AppleWebKit/537.36 (KHTML, like Gecko) Chrome/91.0.4472.124 Safari/537.36\""
      ]
    },
    {
      "cell_type": "markdown",
      "id": "1eae0ab7-d43b-43e0-8b99-6122a636fe0c",
      "metadata": {
        "id": "1eae0ab7-d43b-43e0-8b99-6122a636fe0c"
      },
      "source": [
        "## Part 1: 代码预览\n",
        "\n",
        "[RAG quickstart](https://python.langchain.com/docs/tutorials/rag/)"
      ]
    },
    {
      "cell_type": "code",
      "execution_count": null,
      "id": "98070313-0c2f-4ba6-ae3e-79e2418ce4df",
      "metadata": {
        "id": "98070313-0c2f-4ba6-ae3e-79e2418ce4df"
      },
      "outputs": [],
      "source": [
        "from pprint import pprint\n",
        "import bs4\n",
        "\n",
        "from langchain.text_splitter import RecursiveCharacterTextSplitter\n",
        "from langchain_community.document_loaders import WebBaseLoader\n",
        "from langchain_community.embeddings import DashScopeEmbeddings\n",
        "from langchain_pinecone import PineconeVectorStore\n",
        "\n",
        "\n",
        "#### 索引 ####\n",
        "\n",
        "# 加载文档\n",
        "loader = WebBaseLoader(\n",
        "    web_paths=(\"https://lilianweng.github.io/posts/2023-06-23-agent/\",),\n",
        "    bs_kwargs=dict(\n",
        "        parse_only=bs4.SoupStrainer(\n",
        "            class_=(\"post-content\", \"post-title\", \"post-header\")\n",
        "        )\n",
        "    ),\n",
        ")\n",
        "docs = loader.load()\n",
        "\n",
        "# 分块\n",
        "text_splitter = RecursiveCharacterTextSplitter(chunk_size=1000, chunk_overlap=200)\n",
        "splits = text_splitter.split_documents(docs)\n",
        "\n",
        "# 嵌入、索引\n",
        "def batch_read(lst, batch_size=10):\n",
        "    for i in range(0, len(lst), batch_size):\n",
        "        yield lst[i:i + batch_size]\n",
        "\n",
        "# 向量数据库用来存储嵌入向量和执行相似度搜索\n",
        "embeddings=DashScopeEmbeddings(model=\"text-embedding-v4\")\n",
        "vectorstore = PineconeVectorStore(index_name=index_name, embedding=embeddings)\n",
        "\n",
        "for batch in batch_read(splits):\n",
        "  vectorstore.add_documents(batch)\n",
        "\n",
        "retriever = vectorstore.as_retriever()"
      ]
    },
    {
      "cell_type": "markdown",
      "id": "aQvel04xREeJ",
      "metadata": {
        "id": "aQvel04xREeJ"
      },
      "source": [
        "[RAG chains](https://python.langchain.com/docs/how_to/sequence/)"
      ]
    },
    {
      "cell_type": "code",
      "execution_count": null,
      "id": "MjgCcBKlNj2v",
      "metadata": {
        "colab": {
          "base_uri": "https://localhost:8080/"
        },
        "id": "MjgCcBKlNj2v",
        "outputId": "8b67486e-dd1a-4488-d2b2-972fe54cee83"
      },
      "outputs": [
        {
          "name": "stdout",
          "output_type": "stream",
          "text": [
            "('LangChain uses vector stores to enable long-term memory for agents by '\n",
            " 'storing and efficiently retrieving large amounts of information. These '\n",
            " 'vector stores allow fast similarity searches, helping the agent recall '\n",
            " \"relevant data that isn't in its immediate context. This enhances the model's \"\n",
            " 'ability to work with knowledge beyond its fixed context window.')\n"
          ]
        }
      ],
      "source": [
        "#### 检索与生成 ####\n",
        "\n",
        "##### LangChain #####\n",
        "from langchain import hub\n",
        "from langchain_core.output_parsers import StrOutputParser\n",
        "from langchain_core.runnables import RunnablePassthrough\n",
        "from langchain_community.chat_models.tongyi import ChatTongyi\n",
        "\n",
        "# Prompt\n",
        "prompt = hub.pull(\"rlm/rag-prompt\")\n",
        "\n",
        "# LLM\n",
        "llm = ChatTongyi(model=\"qwen-plus-latest\", temperature=0.1)\n",
        "\n",
        "# Post-processing\n",
        "def format_docs(docs):\n",
        "    return \"\\n\\n\".join(doc.page_content for doc in docs)\n",
        "\n",
        "# Chain\n",
        "# | 是管道运算符，将每一步invoke的结果输入给下一步进行invoke\n",
        "rag_chain = (\n",
        "    # 强制转换RunnableParallel，\n",
        "    # 两个键接收同一个参数并行处理，得到一个字典\n",
        "    # RunnablePassthrough将接收的数据保持不变传递到下一步骤\n",
        "    {\"context\": retriever | format_docs, \"question\": RunnablePassthrough()}\n",
        "    | prompt\n",
        "    | llm\n",
        "    | StrOutputParser()\n",
        ")\n",
        "\n",
        "# Question\n",
        "pprint(rag_chain.invoke(\"How does LangChain use vector stores for efficient data retrieval?\"))"
      ]
    },
    {
      "cell_type": "markdown",
      "id": "488VOyzRRhnz",
      "metadata": {
        "id": "488VOyzRRhnz"
      },
      "source": [
        "[RAG Graph](https://python.langchain.com/docs/tutorials/rag/)"
      ]
    },
    {
      "cell_type": "code",
      "execution_count": null,
      "id": "p5hmE8gwI-g5",
      "metadata": {
        "id": "p5hmE8gwI-g5"
      },
      "outputs": [],
      "source": [
        "##### LangGraph #####\n",
        "\n",
        "from langgraph.graph import START, StateGraph\n",
        "from typing import List, TypedDict\n",
        "from langchain_core.documents import Document\n",
        "\n",
        "# 定义应用的状态\n",
        "class State(TypedDict):\n",
        "    question: str\n",
        "    context: List[Document]\n",
        "    answer: str\n",
        "\n",
        "\n",
        "# 定义应用的检索节点\n",
        "def retrieve(state: State):\n",
        "    retrieved_docs = vectorstore.similarity_search(state[\"question\"])\n",
        "    return {\"context\": retrieved_docs}\n",
        "\n",
        "# 定义应用的生成节点\n",
        "def generate(state: State):\n",
        "    docs_content = \"\\n\\n\".join(doc.page_content for doc in state[\"context\"])\n",
        "    messages = prompt.invoke({\"question\": state[\"question\"], \"context\": docs_content})\n",
        "    response = llm.invoke(messages)\n",
        "    return {\"answer\": response.content}\n",
        "\n",
        "\n",
        "# 构建图\n",
        "graph_builder = StateGraph(State).add_sequence([retrieve, generate])\n",
        "graph_builder.add_edge(START, \"retrieve\")\n",
        "graph = graph_builder.compile()"
      ]
    },
    {
      "cell_type": "code",
      "execution_count": null,
      "id": "vnJpuv61O8ff",
      "metadata": {
        "colab": {
          "base_uri": "https://localhost:8080/"
        },
        "id": "vnJpuv61O8ff",
        "outputId": "1b67d946-8b9f-420d-96d8-9b216acc287c"
      },
      "outputs": [
        {
          "name": "stdout",
          "output_type": "stream",
          "text": [
            "Task Decomposition is the process of breaking down complex tasks into smaller, more manageable steps to improve problem-solving efficiency. It can be performed using methods like Chain of Thought (CoT), Tree of Thoughts, or with external planners like in LLM+P. Techniques include prompting large language models (LLMs) for step-by-step reasoning, task-specific instructions, or incorporating human input.\n"
          ]
        }
      ],
      "source": [
        "response = graph.invoke({\"question\": \"What is Task Decomposition?\"})\n",
        "print(response[\"answer\"])"
      ]
    },
    {
      "cell_type": "code",
      "execution_count": null,
      "id": "VGDo5HjcPIw4",
      "metadata": {
        "colab": {
          "base_uri": "https://localhost:8080/",
          "height": 350
        },
        "id": "VGDo5HjcPIw4",
        "outputId": "a4a53d60-219f-474f-d9f3-e55c23b12d41"
      },
      "outputs": [
        {
          "data": {
            "image/png": "[encoded data removed]",
            "text/plain": [
              "<IPython.core.display.Image object>"
            ]
          },
          "metadata": {},
          "output_type": "display_data"
        }
      ],
      "source": [
        "# 可视化\n",
        "from IPython.display import Image, display\n",
        "\n",
        "display(Image(graph.get_graph().draw_mermaid_png()))"
      ]
    },
    {
      "cell_type": "markdown",
      "id": "aa245709",
      "metadata": {
        "id": "aa245709"
      },
      "source": [
        "# 总结：RAG的基本设置\n",
        "本文档概述了检索增强生成（RAG）应用程序的基本设置。它概述了创建虚拟环境、安装所需软件包以及为API键加载环境变量的必要步骤。\n",
        "\n",
        "关键组件包括：\n",
        "\n",
        "- 环境设置：创建虚拟环境和从requirements.txt文件安装依赖项的说明。\n",
        "- API密钥管理：加载和设置各种服务的环境变量，包括LangChain和Pinecone。\n",
        "- 文档加载和索引：使用WebBaseLoader从指定的URL加载文档，然后使用RecursiveCharacterTextSplitter将文档拆分为可管理的块。\n",
        "  - [LangChain的各种文档加载器](https://python.langchain.com/docs/integrations/document_loaders/)\n",
        "  - [Splitter](https://python.langchain.com/docs/how_to/recursive_text_splitter/)\n",
        "  \n",
        "  ![indexing](./image/indexing.png)\n",
        "\n",
        "- 嵌入和向量存储：为文档创建嵌入并将其存储在Pinecone向量数据库中，以实现高效检索。\n",
        " - [LangChain支持的文本嵌入模型](https://python.langchain.com/docs/integrations/text_embedding/openai)\n",
        " - [LangChain支持的向量数据库](https://python.langchain.com/docs/integrations/vectorstores/)\n",
        "- 检索和生成：通过LangChain和LangGraph分别实现一种检索机制，根据用户查询获取相关文档，并使用语言模型（LLM）生成响应。\n",
        "  \n",
        "  ![retrieveNgeneration](./image/retrieveNgeneration.png)\n",
        "\n",
        "此设置是构建RAG应用程序的基础框架。"
      ]
    },
    {
      "cell_type": "code",
      "execution_count": null,
      "id": "a30lrRfXSr2M",
      "metadata": {
        "id": "a30lrRfXSr2M"
      },
      "outputs": [],
      "source": []
    }
  ],
  "metadata": {
    "colab": {
      "include_colab_link": true,
      "provenance": []
    },
    "kernelspec": {
      "display_name": "Python 3 (ipykernel)",
      "language": "python",
      "name": "python3"
    },
    "language_info": {
      "codemirror_mode": {
        "name": "ipython",
        "version": 3
      },
      "file_extension": ".py",
      "mimetype": "text/x-python",
      "name": "python",
      "nbconvert_exporter": "python",
      "pygments_lexer": "ipython3",
      "version": "3.11.11"
    }
  },
  "nbformat": 4,
  "nbformat_minor": 5
}
